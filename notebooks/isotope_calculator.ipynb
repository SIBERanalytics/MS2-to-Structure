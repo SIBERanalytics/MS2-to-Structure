{
 "cells": [
  {
   "cell_type": "code",
   "execution_count": 1,
   "id": "9e9ca160-c579-461b-9776-230f7ddb57c8",
   "metadata": {
    "tags": []
   },
   "outputs": [],
   "source": [
    "import os \n",
    "import re\n",
    "import numpy as np\n",
    "from rdkit import Chem as Ch\n",
    "from rdkit.Chem import rdMolDescriptors\n",
    "from collections import Counter\n",
    "import itertools\n",
    "from scipy.stats import multinomial\n",
    "\n",
    "#Function to get average (exact) mw from ms1 files\n",
    "    \n",
    "def calculate_isotope_probabilities(element, count, isotopic_probabilities):\n",
    "    probabilities = isotopic_probabilities.get(element)\n",
    "    count_combinations = itertools.product(range(count + 1), repeat=len(probabilities))\n",
    "    probabilities_dict = {}\n",
    "    for counts in count_combinations:\n",
    "        mult_dist = multinomial(count, probabilities)\n",
    "        probability = mult_dist.pmf(counts)\n",
    "        if probability >= 1e-10:\n",
    "            probabilities_dict.update({counts:probability})\n",
    "    return(probabilities_dict)\n",
    "\n",
    "def get_element_counts(smiles):\n",
    "    mol = Ch.MolFromSmiles(smiles)\n",
    "    formula = Ch.rdMolDescriptors.CalcMolFormula(mol)\n",
    "    element_counts = Counter()       \n",
    "    # Use regular expression to extract elements and counts\n",
    "    pattern = re.compile(r'([A-Z][a-z]*)([0-9]*)')\n",
    "    matches = pattern.findall(formula)\n",
    "    for match in matches:\n",
    "        element = match[0]\n",
    "        count = int(match[1]) if match[1] else 1\n",
    "        element_counts[element] += count            \n",
    "    return(dict(element_counts))\n",
    "\n",
    "def get_intensities(smiles, isotopic_probabilities):\n",
    "    #Get elements\n",
    "    element_counts = get_element_counts(smiles)\n",
    "    isotope_probabilities_list = []\n",
    "    #Get the probabilitiy for every element and its count in order\n",
    "    for element , count in element_counts.items():\n",
    "        probabilities = calculate_isotope_probabilities(element, count, isotopic_probabilities)\n",
    "        isotope_probabilities_list.append(probabilities)\n",
    "    #Isocombis is list of list for all the isotope combinations\n",
    "    isocombis = []\n",
    "    for combi in isotope_probabilities_list:\n",
    "        isocombis.append(list(combi.keys()))\n",
    "    combinations = list(itertools.product(*isocombis))  \n",
    "    elements = list(element_counts.keys())   \n",
    "    iso_counter = Counter()\n",
    "    #Get the masses associated with each combinition and sum them\n",
    "    for combination in combinations:\n",
    "        iso_mass = 0\n",
    "        probabilities = []\n",
    "        for combi in combination:\n",
    "            combi_index = combination.index(combi)\n",
    "            iso_mass += np.dot(combi,np.arange(0,len(combi)))\n",
    "            probabilities.append(isotope_probabilities_list[combi_index].get(combi))\n",
    "        if iso_mass <= 10:\n",
    "            iso_counter[iso_mass] += np.prod(probabilities)\n",
    "    output = []\n",
    "    for i in range(len(iso_counter.keys())):\n",
    "        output.append(iso_counter[i])\n",
    "    output = list(output)\n",
    "    #output = list(output/np.max(output))\n",
    "    return(output)\n",
    "\n",
    "isotopic_probabilities = {\"H\": [0.999855, 0.000145],\n",
    "                          \"B\": [0.1978, 0.8022],\n",
    "                          \"C\": [0.9889, 0.0111],\n",
    "                          \"N\": [0.9963, 0.0037],\n",
    "                          \"O\": [0.99757, 0.00038, 0.00205],\n",
    "                          \"F\": [1.0],\n",
    "                          \"Mg\": [0.79, 0.1, 0.11],\n",
    "                          \"Na\": [1.0],\n",
    "                          \"Si\": [0.9223, 0.0467, 0.031],\n",
    "                          \"P\": [1.0],\n",
    "                          \"S\": [0.95, 0.0075, 0.0425, 0, 0.0002],\n",
    "                          \"Cl\": [0.7577, 0, 0.2423],\n",
    "                          \"K\": [0.9326, 0.00012, 0.0673],\n",
    "                          \"Fe\": [0.0584, 0, 0.9166, 0.0219, 0.0028],\n",
    "                          \"Co\": [1.0],\n",
    "                          \"As\": [1.0],\n",
    "                          \"Se\": [0.0089, 0, 0.0937, 0.0763, 0.2377, 0, 0.4961, 0, 0.0873],\n",
    "                          \"Br\": [0.5069, 0, 0.4931],\n",
    "                          \"I\": [1.0]}"
   ]
  },
  {
   "cell_type": "code",
   "execution_count": 2,
   "id": "b79a5d27-9c6a-484d-baf8-dd8123476cb9",
   "metadata": {
    "tags": []
   },
   "outputs": [],
   "source": [
    "test1 = get_intensities(\"CCC1CCCNC(=O)C(CCCC(CCC1OC2C(C(C(C(O2)C)O)N)O)C)CC\", isotopic_probabilities)"
   ]
  },
  {
   "cell_type": "code",
   "execution_count": 3,
   "id": "9469b324-4cae-43ed-9e24-144e60086efa",
   "metadata": {
    "tags": []
   },
   "outputs": [
    {
     "data": {
      "text/plain": [
       "[0.7451732430409226,\n",
       " 0.2126674574528877,\n",
       " 0.036866032102844726,\n",
       " 0.00475298370302754,\n",
       " 0.0004936259859912291,\n",
       " 4.316686936485353e-05,\n",
       " 3.260954916105499e-06,\n",
       " 2.1629570955316934e-07,\n",
       " 1.2666967158228969e-08,\n",
       " 6.485759089462766e-10,\n",
       " 2.9007332700139816e-11]"
      ]
     },
     "execution_count": 3,
     "metadata": {},
     "output_type": "execute_result"
    }
   ],
   "source": [
    "test1"
   ]
  },
  {
   "cell_type": "code",
   "execution_count": null,
   "id": "b6afaa45-9505-43fd-9747-bf174b5f9b67",
   "metadata": {},
   "outputs": [],
   "source": []
  }
 ],
 "metadata": {
  "kernelspec": {
   "display_name": "Python 3 (ipykernel)",
   "language": "python",
   "name": "python3"
  },
  "language_info": {
   "codemirror_mode": {
    "name": "ipython",
    "version": 3
   },
   "file_extension": ".py",
   "mimetype": "text/x-python",
   "name": "python",
   "nbconvert_exporter": "python",
   "pygments_lexer": "ipython3",
   "version": "3.8.19"
  }
 },
 "nbformat": 4,
 "nbformat_minor": 5
}
